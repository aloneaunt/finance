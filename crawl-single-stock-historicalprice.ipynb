{
 "cells": [
  {
   "cell_type": "markdown",
   "metadata": {},
   "source": [
    "# 爬取單一股票歷史股價\n",
    "\n",
    "從 [美國 Yahoo](https://finance.yahoo.com/) 網站爬取資料"
   ]
  },
  {
   "cell_type": "code",
   "execution_count": 1,
   "metadata": {},
   "outputs": [],
   "source": [
    "import pandas as pd\n",
    "import requests"
   ]
  },
  {
   "cell_type": "markdown",
   "metadata": {},
   "source": [
    "## 設定下載資料的 URL，使用 Post 方式取得資料"
   ]
  },
  {
   "cell_type": "code",
   "execution_count": 2,
   "metadata": {},
   "outputs": [],
   "source": [
    "url = 'https://query1.finance.yahoo.com/v7/finance/download/5880.TW?period1=0&period2=1558575601&interval=1d&events=history&crumb=hP2rOschxO0'\n",
    "res = requests.post(url)"
   ]
  },
  {
   "cell_type": "markdown",
   "metadata": {},
   "source": [
    "## 將資料寫入 CSV 檔案中"
   ]
  },
  {
   "cell_type": "code",
   "execution_count": 4,
   "metadata": {},
   "outputs": [],
   "source": [
    "with open('5880.csv', 'w') as f:\n",
    "    f.writelines(res.text)"
   ]
  },
  {
   "cell_type": "markdown",
   "metadata": {},
   "source": [
    "## 讀出股價資料，並繪製圖表"
   ]
  },
  {
   "cell_type": "code",
   "execution_count": 5,
   "metadata": {},
   "outputs": [
    {
     "data": {
      "text/html": [
       "<div>\n",
       "<style scoped>\n",
       "    .dataframe tbody tr th:only-of-type {\n",
       "        vertical-align: middle;\n",
       "    }\n",
       "\n",
       "    .dataframe tbody tr th {\n",
       "        vertical-align: top;\n",
       "    }\n",
       "\n",
       "    .dataframe thead th {\n",
       "        text-align: right;\n",
       "    }\n",
       "</style>\n",
       "<table border=\"1\" class=\"dataframe\">\n",
       "  <thead>\n",
       "    <tr style=\"text-align: right;\">\n",
       "      <th></th>\n",
       "      <th>Open</th>\n",
       "      <th>High</th>\n",
       "      <th>Low</th>\n",
       "      <th>Close</th>\n",
       "      <th>Adj Close</th>\n",
       "      <th>Volume</th>\n",
       "    </tr>\n",
       "    <tr>\n",
       "      <th>Date</th>\n",
       "      <th></th>\n",
       "      <th></th>\n",
       "      <th></th>\n",
       "      <th></th>\n",
       "      <th></th>\n",
       "      <th></th>\n",
       "    </tr>\n",
       "  </thead>\n",
       "  <tbody>\n",
       "    <tr>\n",
       "      <th>2000-11-22</th>\n",
       "      <td>6.96231</td>\n",
       "      <td>7.48188</td>\n",
       "      <td>6.92767</td>\n",
       "      <td>7.30869</td>\n",
       "      <td>5.126002</td>\n",
       "      <td>9544409.0</td>\n",
       "    </tr>\n",
       "    <tr>\n",
       "      <th>2000-11-23</th>\n",
       "      <td>7.20478</td>\n",
       "      <td>7.55116</td>\n",
       "      <td>7.06622</td>\n",
       "      <td>7.55116</td>\n",
       "      <td>5.296060</td>\n",
       "      <td>9921921.0</td>\n",
       "    </tr>\n",
       "    <tr>\n",
       "      <th>2000-11-24</th>\n",
       "      <td>7.55116</td>\n",
       "      <td>8.03610</td>\n",
       "      <td>7.55116</td>\n",
       "      <td>8.03610</td>\n",
       "      <td>5.636176</td>\n",
       "      <td>10309887.0</td>\n",
       "    </tr>\n",
       "    <tr>\n",
       "      <th>2000-11-27</th>\n",
       "      <td>8.03610</td>\n",
       "      <td>8.31320</td>\n",
       "      <td>7.75899</td>\n",
       "      <td>8.31320</td>\n",
       "      <td>5.830522</td>\n",
       "      <td>15297800.0</td>\n",
       "    </tr>\n",
       "    <tr>\n",
       "      <th>2000-11-28</th>\n",
       "      <td>8.17465</td>\n",
       "      <td>8.45176</td>\n",
       "      <td>8.10537</td>\n",
       "      <td>8.24393</td>\n",
       "      <td>5.781939</td>\n",
       "      <td>8138649.0</td>\n",
       "    </tr>\n",
       "    <tr>\n",
       "      <th>2000-11-29</th>\n",
       "      <td>8.03610</td>\n",
       "      <td>8.65959</td>\n",
       "      <td>8.03610</td>\n",
       "      <td>8.59031</td>\n",
       "      <td>6.024875</td>\n",
       "      <td>16260937.0</td>\n",
       "    </tr>\n",
       "    <tr>\n",
       "      <th>2000-11-30</th>\n",
       "      <td>8.45176</td>\n",
       "      <td>8.59031</td>\n",
       "      <td>8.31320</td>\n",
       "      <td>8.48640</td>\n",
       "      <td>5.951997</td>\n",
       "      <td>11978712.0</td>\n",
       "    </tr>\n",
       "    <tr>\n",
       "      <th>2000-12-01</th>\n",
       "      <td>8.24393</td>\n",
       "      <td>8.45176</td>\n",
       "      <td>8.20929</td>\n",
       "      <td>8.38248</td>\n",
       "      <td>5.879112</td>\n",
       "      <td>3670931.0</td>\n",
       "    </tr>\n",
       "    <tr>\n",
       "      <th>2000-12-04</th>\n",
       "      <td>8.31320</td>\n",
       "      <td>8.38248</td>\n",
       "      <td>8.10537</td>\n",
       "      <td>8.10537</td>\n",
       "      <td>5.684759</td>\n",
       "      <td>3732857.0</td>\n",
       "    </tr>\n",
       "    <tr>\n",
       "      <th>2000-12-05</th>\n",
       "      <td>8.10537</td>\n",
       "      <td>8.41712</td>\n",
       "      <td>7.82827</td>\n",
       "      <td>8.41712</td>\n",
       "      <td>5.903408</td>\n",
       "      <td>11337231.0</td>\n",
       "    </tr>\n",
       "  </tbody>\n",
       "</table>\n",
       "</div>"
      ],
      "text/plain": [
       "               Open     High      Low    Close  Adj Close      Volume\n",
       "Date                                                                 \n",
       "2000-11-22  6.96231  7.48188  6.92767  7.30869   5.126002   9544409.0\n",
       "2000-11-23  7.20478  7.55116  7.06622  7.55116   5.296060   9921921.0\n",
       "2000-11-24  7.55116  8.03610  7.55116  8.03610   5.636176  10309887.0\n",
       "2000-11-27  8.03610  8.31320  7.75899  8.31320   5.830522  15297800.0\n",
       "2000-11-28  8.17465  8.45176  8.10537  8.24393   5.781939   8138649.0\n",
       "2000-11-29  8.03610  8.65959  8.03610  8.59031   6.024875  16260937.0\n",
       "2000-11-30  8.45176  8.59031  8.31320  8.48640   5.951997  11978712.0\n",
       "2000-12-01  8.24393  8.45176  8.20929  8.38248   5.879112   3670931.0\n",
       "2000-12-04  8.31320  8.38248  8.10537  8.10537   5.684759   3732857.0\n",
       "2000-12-05  8.10537  8.41712  7.82827  8.41712   5.903408  11337231.0"
      ]
     },
     "execution_count": 5,
     "metadata": {},
     "output_type": "execute_result"
    }
   ],
   "source": [
    "df = pd.read_csv('5880.csv', index_col='Date', parse_dates=['Date'])\n",
    "df.head(10)"
   ]
  },
  {
   "cell_type": "code",
   "execution_count": 19,
   "metadata": {},
   "outputs": [
    {
     "data": {
      "text/plain": [
       "<matplotlib.axes._subplots.AxesSubplot at 0xb6bc908>"
      ]
     },
     "execution_count": 19,
     "metadata": {},
     "output_type": "execute_result"
    },
    {
     "data": {
      "image/png": "[encoded data removed]",
      "text/plain": [
       "<Figure size 432x288 with 1 Axes>"
      ]
     },
     "metadata": {
      "needs_background": "light"
     },
     "output_type": "display_data"
    }
   ],
   "source": [
    "%matplotlib inline\n",
    "df.Close[4000:].plot(color='r')"
   ]
  },
  {
   "cell_type": "code",
   "execution_count": null,
   "metadata": {},
   "outputs": [],
   "source": []
  }
 ],
 "metadata": {
  "kernelspec": {
   "display_name": "Python 3",
   "language": "python",
   "name": "python3"
  },
  "language_info": {
   "codemirror_mode": {
    "name": "ipython",
    "version": 3
   },
   "file_extension": ".py",
   "mimetype": "text/x-python",
   "name": "python",
   "nbconvert_exporter": "python",
   "pygments_lexer": "ipython3",
   "version": "3.7.3"
  }
 },
 "nbformat": 4,
 "nbformat_minor": 2
}
